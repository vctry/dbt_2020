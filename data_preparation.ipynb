{
  "nbformat": 4,
  "nbformat_minor": 0,
  "metadata": {
    "colab": {
      "name": "data preparation.ipynb",
      "provenance": []
    },
    "kernelspec": {
      "name": "python3",
      "display_name": "Python 3"
    }
  },
  "cells": [
    {
      "cell_type": "code",
      "metadata": {
        "id": "VXXpYhVA3PWn",
        "outputId": "815e10af-ecc6-4378-f80e-98a2ca8cc34b",
        "colab": {
          "base_uri": "https://localhost:8080/"
        }
      },
      "source": [
        "from google.colab import drive\n",
        "drive.mount('/content/gdrive')"
      ],
      "execution_count": null,
      "outputs": [
        {
          "output_type": "stream",
          "text": [
            "Drive already mounted at /content/gdrive; to attempt to forcibly remount, call drive.mount(\"/content/gdrive\", force_remount=True).\n"
          ],
          "name": "stdout"
        }
      ]
    },
    {
      "cell_type": "code",
      "metadata": {
        "id": "AwIiJiMt4yZ0"
      },
      "source": [
        "import pandas as pd\n",
        "import numpy as np\n",
        "import re\n",
        "import os"
      ],
      "execution_count": 361,
      "outputs": []
    },
    {
      "cell_type": "code",
      "metadata": {
        "id": "HRB1M2Hm4kFz"
      },
      "source": [
        "def read_data(path='/content/gdrive/My Drive/Colab Notebooks/sber-hack/data.csv'):\n",
        "    data = pd.read_csv(path)\n",
        "\n",
        "    return data"
      ],
      "execution_count": 362,
      "outputs": []
    },
    {
      "cell_type": "code",
      "metadata": {
        "id": "b-Xwj1PW4xNs"
      },
      "source": [
        "def table_prep(data):\n",
        "    data = data.drop(['salary_from',\t'salary_to', 'published_at'], axis=1)\n",
        "    vacancy = pd.DataFrame(np.zeros(len(data.name)))\n",
        "    vacancy.columns = ['vacancy']\n",
        "    data.vacancy = ''\n",
        "\n",
        "    data = pd.concat([data, vacancy], axis=1)\n",
        "\n",
        "    return data"
      ],
      "execution_count": 377,
      "outputs": []
    },
    {
      "cell_type": "code",
      "metadata": {
        "id": "VD91pVR5X7DZ"
      },
      "source": [
        "def parse_vacancies(path):\n",
        "    data = read_data(path)\n",
        "\n",
        "    data = table_prep(data)\n",
        "\n",
        "    data.vacancy.loc[data.name.isin([name for name in data.name if 'python' in name.lower()])] = 'Python разработчик'\n",
        "\n",
        "    data.vacancy.loc[data.name.isin([name for name in data.name if 'аналитик' in name.lower() or 'analyst' in name.lower()])] = 'Аналитик'\n",
        "\n",
        "    data.vacancy.loc[data.name.isin([name for name in data.name\n",
        "                                     if ('анал' in str(name).lower() and 'дан' in str(name).lower())\n",
        "                                     or ('data' in str(name).lower() and 'anal' in str(name).lower())])] = 'Аналитик данных'\n",
        "\n",
        "    data.vacancy.loc[data.name.isin([name for name in data.name\n",
        "                                     if 'develop' in str(name).lower() or\n",
        "                                     'програм' in str(name).lower() or\n",
        "                                     'разраб' in str(name).lower() or\n",
        "                                     ('soft' in str(name).lower() and 'ingeneer' in str(name).lower()) or\n",
        "                                     ('python' in name.lower() and 'engineer' in name.lower())])] = 'Разработчик'\n",
        "\n",
        "    data.vacancy.loc[data.name.isin([name for name in data.name\n",
        "                                     if 'data' in str(name).lower() and 'scien' in str(name).lower() or\n",
        "                                     ('deep' in name.lower() and 'learn' in name.lower())])] = 'Data Scientist'\n",
        "\n",
        "    data.vacancy.loc[data.name.isin([name for name in data.name if 'qa' in name.lower() or\n",
        "                             'test' in name.lower() or 'тест' in name.lower() or\n",
        "                             'тест' in name.lower()])] = 'Тестировщик'\n",
        "\n",
        "    data.vacancy.loc[data.name.isin([name for name in data.name if 'разраб' in name.lower() and 'анал' in name.lower()])] = 'Разработчик-аналитик'\n",
        "\n",
        "    data.vacancy.loc[data.name.isin([name for name in data.name if ('devops' in name.lower()) or\n",
        "                             ('dev' in name.lower() and 'ops' in name.lower())])] = 'DevOps'\n",
        "\n",
        "    data.vacancy.loc[data.name.isin([name for name in data.name if 'data' in name.lower() and 'engineer' in name.lower()])] = 'Data Engineer'\n",
        "\n",
        "    data.vacancy.loc[data.name.isin([name for name in data.name if 'machine' in name.lower() and 'learning' in name.lower() and 'engineer' in name.lower()])] = 'Machine Learning Engineer'\n",
        "\n",
        "    data.vacancy.loc[data.name.isin([name for name in data.name if 'fullstack' in name.lower() or\n",
        "                                     ('full' in name.lower() and 'stack' in name.lower())])] = 'Fullstack'\n",
        "\n",
        "    data.vacancy.loc[data.name.isin([name for name in data.name if 'backend' in name.lower() or\n",
        "                                     'back' in name.lower() and 'end' in name.lower()])] = 'Backend'\n",
        "\n",
        "    data.vacancy.loc[data.name.isin([name for name in data.name if 'frontend' in name.lower() or\n",
        "                             'front' in name.lower()])] = 'Frontend'\n",
        "\n",
        "    data.vacancy.loc[data.name.isin([name for name in data.name if 'computer' in name.lower() and 'vision' in name.lower()])] = 'Computer Vision'\n",
        "\n",
        "    data.vacancy.loc[data.name.isin([name for name in data.name if 'системный' in name.lower() and 'аналитик' in name.lower()])] = 'Системный аналитик'\n",
        "\n",
        "    data.vacancy.loc[data.name.isin([name for name in data.name if 'сис' in name.lower() and 'админ' in name.lower() or\n",
        "                                     'администратор' in name.lower()])] = 'Системный администратор'\n",
        "\n",
        "    data.vacancy.loc[data.name.isin([name for name in data.name if 'product' in name.lower()])] = 'Product'\n",
        "\n",
        "    data.vacancy.loc[data.name.isin([name for name in data.name if ('data' in name.lower() and 'analyst' in name.lower()) or\n",
        "                             ('спец' in name.lower() and 'дан' in name.lower()) or\n",
        "                             'sql' in name.lower()])] = 'Аналитик данных'\n",
        "\n",
        "    data.vacancy.loc[data.name.isin([name for name in data.name if 'team' in name.lower() and 'lead' in name.lower()])] = 'Team lead'\n",
        "\n",
        "    data.vacancy.loc[data.name.isin([name for name in data.name if 'bi' in name.lower()])] = 'BI'\n",
        "\n",
        "    data.vacancy.loc[data.name.isin([name for name in data.name if 'etl' in name.lower()])] = 'ETL разработчик'\n",
        "\n",
        "    data.vacancy.loc[data.name.isin([name for name in data.name if 'защит' in name.lower() or 'security' in name.lower()])] = 'Безопасность данных'\n",
        "\n",
        "    data.vacancy.loc[data.name.isin([name for name in data.name if 'инженер' in name.lower()])] = 'Инженер'\n",
        "\n",
        "    data.vacancy.loc[data.name.isin([name for name in data.name if ('машин' in name.lower() and 'обуч' in name.lower()) or\n",
        "                             ('ml' in name.lower() and 'engineer' in name.lower()) or\n",
        "                             ('machine' in name.lower() and 'learn' in name.lower())])] = 'Machine learning engineer'\n",
        "\n",
        "    data.vacancy.loc[data.name.isin([name for name in data.name if ('data' in name.lower() and 'инженер' in name.lower()) or\n",
        "                             ('дан' in name.lower() and 'инженер' in name.lower()) or\n",
        "                             ('дат' in name.lower() and 'инженер' in name.lower())])] = 'Data engineer'\n",
        "\n",
        "    data.vacancy.loc[data.name.isin([name for name in data.name if ('сист' in name.lower() and 'инженер' in name.lower())])] = 'System engineer'\n",
        "\n",
        "    data.vacancy.loc[data.name.isin([name for name in data.name if ('linux' in name.lower())])] = 'Linux инженер'\n",
        "\n",
        "    return data\n"
      ],
      "execution_count": 364,
      "outputs": []
    },
    {
      "cell_type": "code",
      "metadata": {
        "id": "3cvJT0boX7IQ",
        "outputId": "bbb97d55-4d02-4d1a-e793-08925337b537",
        "colab": {
          "base_uri": "https://localhost:8080/"
        }
      },
      "source": [
        "path = os.path.join('/content/gdrive/My Drive/Colab Notebooks/sber-hack/data.csv')\n",
        "result = parse_vacancies(path)"
      ],
      "execution_count": 378,
      "outputs": [
        {
          "output_type": "stream",
          "text": [
            "/usr/local/lib/python3.6/dist-packages/pandas/core/indexing.py:670: SettingWithCopyWarning: \n",
            "A value is trying to be set on a copy of a slice from a DataFrame\n",
            "\n",
            "See the caveats in the documentation: https://pandas.pydata.org/pandas-docs/stable/user_guide/indexing.html#returning-a-view-versus-a-copy\n",
            "  iloc._setitem_with_indexer(indexer, value)\n"
          ],
          "name": "stderr"
        }
      ]
    },
    {
      "cell_type": "code",
      "metadata": {
        "id": "NAVlWXyOAakk"
      },
      "source": [
        "result.head()\n",
        "\n",
        "result = result.drop('name', axis=1)"
      ],
      "execution_count": 380,
      "outputs": []
    },
    {
      "cell_type": "code",
      "metadata": {
        "id": "9Le5OeCdJY58",
        "outputId": "45e98c6e-3168-4b9d-c356-486a7db7f6ba",
        "colab": {
          "base_uri": "https://localhost:8080/"
        }
      },
      "source": [
        "!pip install StringIO"
      ],
      "execution_count": 375,
      "outputs": [
        {
          "output_type": "stream",
          "text": [
            "\u001b[31mERROR: Could not find a version that satisfies the requirement StringIO (from versions: none)\u001b[0m\n",
            "\u001b[31mERROR: No matching distribution found for StringIO\u001b[0m\n"
          ],
          "name": "stdout"
        }
      ]
    },
    {
      "cell_type": "code",
      "metadata": {
        "id": "IcAjYm1cGE7H"
      },
      "source": [
        ""
      ],
      "execution_count": 380,
      "outputs": []
    },
    {
      "cell_type": "code",
      "metadata": {
        "id": "iPFz74-SAa3T"
      },
      "source": [
        "result.to_csv(os.path.join('/content/gdrive/My Drive/Colab Notebooks/sber-hack/new_data.csv'))"
      ],
      "execution_count": 381,
      "outputs": []
    },
    {
      "cell_type": "code",
      "metadata": {
        "id": "IaJhdkVuBTDX"
      },
      "source": [
        ""
      ],
      "execution_count": null,
      "outputs": []
    },
    {
      "cell_type": "code",
      "metadata": {
        "id": "FLXTOib7AbDH"
      },
      "source": [
        ""
      ],
      "execution_count": null,
      "outputs": []
    },
    {
      "cell_type": "code",
      "metadata": {
        "id": "da7tBdi3VMqE"
      },
      "source": [
        "from nltk.stem.snowball import SnowballStemmer\n",
        "\n",
        "stemmer = SnowballStemmer('russian')"
      ],
      "execution_count": null,
      "outputs": []
    },
    {
      "cell_type": "code",
      "metadata": {
        "id": "FXKmhOA07QxD",
        "outputId": "7733b9ac-86e3-4446-b3b8-1e05193ec6dd",
        "colab": {
          "base_uri": "https://localhost:8080/"
        }
      },
      "source": [
        "[stemmer.stem(s) for s in str(name).lower().replace('-', ' ').split(' ')]"
      ],
      "execution_count": null,
      "outputs": [
        {
          "output_type": "execute_result",
          "data": {
            "text/plain": [
              "['стажер', '', '', 'python', 'разработчик', '(django,', 'drf)']"
            ]
          },
          "metadata": {
            "tags": []
          },
          "execution_count": 111
        }
      ]
    }
  ]
}