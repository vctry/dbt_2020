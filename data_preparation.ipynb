{
  "nbformat": 4,
  "nbformat_minor": 0,
  "metadata": {
    "colab": {
      "name": "data_preparation.ipynb",
      "provenance": []
    },
    "kernelspec": {
      "name": "python3",
      "display_name": "Python 3"
    }
  },
  "cells": [
    {
      "cell_type": "code",
      "metadata": {
        "id": "VXXpYhVA3PWn",
        "outputId": "815e10af-ecc6-4378-f80e-98a2ca8cc34b",
        "colab": {
          "base_uri": "https://localhost:8080/"
        }
      },
      "source": [
        "from google.colab import drive\n",
        "drive.mount('/content/gdrive')"
      ],
      "execution_count": null,
      "outputs": [
        {
          "output_type": "stream",
          "text": [
            "Drive already mounted at /content/gdrive; to attempt to forcibly remount, call drive.mount(\"/content/gdrive\", force_remount=True).\n"
          ],
          "name": "stdout"
        }
      ]
    },
    {
      "cell_type": "code",
      "metadata": {
        "id": "AwIiJiMt4yZ0"
      },
      "source": [
        "import pandas as pd\n",
        "import numpy as np\n",
        "import re\n",
        "import os"
      ],
      "execution_count": null,
      "outputs": []
    },
    {
      "cell_type": "code",
      "metadata": {
        "id": "HRB1M2Hm4kFz"
      },
      "source": [
        "def read_data(path='/content/gdrive/My Drive/Colab Notebooks/sber-hack/data.csv', parse_dates=True, index_col='Время публикации'):\n",
        "    data = pd.read_csv(path)\n",
        "\n",
        "    return data"
      ],
      "execution_count": 441,
      "outputs": []
    },
    {
      "cell_type": "code",
      "metadata": {
        "id": "b-Xwj1PW4xNs"
      },
      "source": [
        "def table_prep(data):\n",
        "    # data = data.drop(['salary', 'published_at'], axis=1)\n",
        "    vacancy = pd.DataFrame(np.zeros(len(data.name)))\n",
        "    vacancy.columns = ['vacancy']\n",
        "    data.vacancy = ''\n",
        "\n",
        "    data = pd.concat([data, vacancy], axis=1)\n",
        "\n",
        "    return data"
      ],
      "execution_count": 470,
      "outputs": []
    },
    {
      "cell_type": "code",
      "metadata": {
        "id": "VD91pVR5X7DZ"
      },
      "source": [
        "def parse_vacancies(data):\n",
        "    # data = read_data(path)\n",
        "\n",
        "    data = table_prep(data)\n",
        "\n",
        "    data.vacancy.loc[data.name.isin([name for name in data.name if 'python' in name.lower()])] = 'Python разработчик'\n",
        "\n",
        "    data.vacancy.loc[data.name.isin([name for name in data.name if 'аналитик' in name.lower() or 'analyst' in name.lower()])] = 'Аналитик'\n",
        "\n",
        "    data.vacancy.loc[data.name.isin([name for name in data.name\n",
        "                                     if ('анал' in str(name).lower() and 'дан' in str(name).lower())\n",
        "                                     or ('data' in str(name).lower() and 'anal' in str(name).lower())])] = 'Аналитик данных'\n",
        "\n",
        "    data.vacancy.loc[data.name.isin([name for name in data.name\n",
        "                                     if 'develop' in str(name).lower() or\n",
        "                                     'програм' in str(name).lower() or\n",
        "                                     'разраб' in str(name).lower() or\n",
        "                                     ('soft' in str(name).lower() and 'ingeneer' in str(name).lower()) or\n",
        "                                     ('python' in name.lower() and 'engineer' in name.lower())])] = 'Разработчик'\n",
        "\n",
        "    data.vacancy.loc[data.name.isin([name for name in data.name\n",
        "                                     if 'data' in str(name).lower() and 'scien' in str(name).lower() or\n",
        "                                     ('deep' in name.lower() and 'learn' in name.lower())])] = 'Data Scientist'\n",
        "\n",
        "    data.vacancy.loc[data.name.isin([name for name in data.name if 'qa' in name.lower() or\n",
        "                             'test' in name.lower() or 'тест' in name.lower() or\n",
        "                             'тест' in name.lower()])] = 'Тестировщик'\n",
        "\n",
        "    data.vacancy.loc[data.name.isin([name for name in data.name if 'разраб' in name.lower() and 'анал' in name.lower()])] = 'Разработчик-аналитик'\n",
        "\n",
        "    data.vacancy.loc[data.name.isin([name for name in data.name if ('devops' in name.lower()) or\n",
        "                             ('dev' in name.lower() and 'ops' in name.lower())])] = 'DevOps'\n",
        "\n",
        "    data.vacancy.loc[data.name.isin([name for name in data.name if 'data' in name.lower() and 'engineer' in name.lower()])] = 'Data Engineer'\n",
        "\n",
        "    data.vacancy.loc[data.name.isin([name for name in data.name if 'machine' in name.lower() and 'learning' in name.lower() and 'engineer' in name.lower()])] = 'Machine Learning Engineer'\n",
        "\n",
        "    data.vacancy.loc[data.name.isin([name for name in data.name if 'fullstack' in name.lower() or\n",
        "                                     ('full' in name.lower() and 'stack' in name.lower())])] = 'Fullstack'\n",
        "\n",
        "    data.vacancy.loc[data.name.isin([name for name in data.name if 'backend' in name.lower() or\n",
        "                                     'back' in name.lower() and 'end' in name.lower()])] = 'Backend'\n",
        "\n",
        "    data.vacancy.loc[data.name.isin([name for name in data.name if 'frontend' in name.lower() or\n",
        "                             'front' in name.lower()])] = 'Frontend'\n",
        "\n",
        "    data.vacancy.loc[data.name.isin([name for name in data.name if 'computer' in name.lower() and 'vision' in name.lower()])] = 'Computer Vision'\n",
        "\n",
        "    data.vacancy.loc[data.name.isin([name for name in data.name if 'системный' in name.lower() and 'аналитик' in name.lower()])] = 'Системный аналитик'\n",
        "\n",
        "    data.vacancy.loc[data.name.isin([name for name in data.name if 'сис' in name.lower() and 'админ' in name.lower() or\n",
        "                                     'администратор' in name.lower()])] = 'Системный администратор'\n",
        "\n",
        "    data.vacancy.loc[data.name.isin([name for name in data.name if 'product' in name.lower()])] = 'Product'\n",
        "\n",
        "    data.vacancy.loc[data.name.isin([name for name in data.name if ('data' in name.lower() and 'analyst' in name.lower()) or\n",
        "                             ('спец' in name.lower() and 'дан' in name.lower()) or\n",
        "                             'sql' in name.lower()])] = 'Аналитик данных'\n",
        "\n",
        "    data.vacancy.loc[data.name.isin([name for name in data.name if 'team' in name.lower() and 'lead' in name.lower()])] = 'Team lead'\n",
        "\n",
        "    data.vacancy.loc[data.name.isin([name for name in data.name if 'bi' in name.lower()])] = 'BI'\n",
        "\n",
        "    data.vacancy.loc[data.name.isin([name for name in data.name if 'etl' in name.lower()])] = 'ETL разработчик'\n",
        "\n",
        "    data.vacancy.loc[data.name.isin([name for name in data.name if 'защит' in name.lower() or 'security' in name.lower()])] = 'Безопасность данных'\n",
        "\n",
        "    data.vacancy.loc[data.name.isin([name for name in data.name if 'инженер' in name.lower()])] = 'Инженер'\n",
        "\n",
        "    data.vacancy.loc[data.name.isin([name for name in data.name if ('машин' in name.lower() and 'обуч' in name.lower()) or\n",
        "                             ('ml' in name.lower() and 'engineer' in name.lower()) or\n",
        "                             ('machine' in name.lower() and 'learn' in name.lower())])] = 'Machine learning engineer'\n",
        "\n",
        "    data.vacancy.loc[data.name.isin([name for name in data.name if ('data' in name.lower() and 'инженер' in name.lower()) or\n",
        "                             ('дан' in name.lower() and 'инженер' in name.lower()) or\n",
        "                             ('дат' in name.lower() and 'инженер' in name.lower())])] = 'Data engineer'\n",
        "\n",
        "    data.vacancy.loc[data.name.isin([name for name in data.name if ('сист' in name.lower() and 'инженер' in name.lower())])] = 'System engineer'\n",
        "\n",
        "    data.vacancy.loc[data.name.isin([name for name in data.name if ('linux' in name.lower())])] = 'Linux инженер'\n",
        "\n",
        "    return data\n"
      ],
      "execution_count": 393,
      "outputs": []
    },
    {
      "cell_type": "code",
      "metadata": {
        "id": "3cvJT0boX7IQ",
        "outputId": "bbb97d55-4d02-4d1a-e793-08925337b537",
        "colab": {
          "base_uri": "https://localhost:8080/"
        }
      },
      "source": [
        "path = os.path.join('/content/gdrive/My Drive/Colab Notebooks/sber-hack/data.csv')\n",
        "result = parse_vacancies(path)"
      ],
      "execution_count": null,
      "outputs": [
        {
          "output_type": "stream",
          "text": [
            "/usr/local/lib/python3.6/dist-packages/pandas/core/indexing.py:670: SettingWithCopyWarning: \n",
            "A value is trying to be set on a copy of a slice from a DataFrame\n",
            "\n",
            "See the caveats in the documentation: https://pandas.pydata.org/pandas-docs/stable/user_guide/indexing.html#returning-a-view-versus-a-copy\n",
            "  iloc._setitem_with_indexer(indexer, value)\n"
          ],
          "name": "stderr"
        }
      ]
    },
    {
      "cell_type": "code",
      "metadata": {
        "id": "OPgkSaozjDIz",
        "outputId": "143de97a-59ff-4bcf-ae70-69b2c2c4f6d9",
        "colab": {
          "base_uri": "https://localhost:8080/",
          "height": 204
        }
      },
      "source": [
        "path = os.path.join('/content/gdrive/My Drive/Colab Notebooks/sber-hack/vacancies.csv')\n",
        "dt = read_data(path)\n",
        "dt.head()"
      ],
      "execution_count": 483,
      "outputs": [
        {
          "output_type": "execute_result",
          "data": {
            "text/html": [
              "<div>\n",
              "<style scoped>\n",
              "    .dataframe tbody tr th:only-of-type {\n",
              "        vertical-align: middle;\n",
              "    }\n",
              "\n",
              "    .dataframe tbody tr th {\n",
              "        vertical-align: top;\n",
              "    }\n",
              "\n",
              "    .dataframe thead th {\n",
              "        text-align: right;\n",
              "    }\n",
              "</style>\n",
              "<table border=\"1\" class=\"dataframe\">\n",
              "  <thead>\n",
              "    <tr style=\"text-align: right;\">\n",
              "      <th></th>\n",
              "      <th>Наименование</th>\n",
              "      <th>Навыки</th>\n",
              "      <th>Зарплата</th>\n",
              "      <th>Время публикации</th>\n",
              "      <th>Локация</th>\n",
              "    </tr>\n",
              "  </thead>\n",
              "  <tbody>\n",
              "    <tr>\n",
              "      <th>0</th>\n",
              "      <td>Python developer</td>\n",
              "      <td>['Разработка ПО', 'Средний (Middle)', 'Python']</td>\n",
              "      <td>NaN</td>\n",
              "      <td>2020-10-14T16:00:29+03:00</td>\n",
              "      <td>Санкт-Петербург</td>\n",
              "    </tr>\n",
              "    <tr>\n",
              "      <th>1</th>\n",
              "      <td>Full Stack (Ruby+React/React Native) developer</td>\n",
              "      <td>['Разработка ПО', 'Средний (Middle)', 'Ruby', ...</td>\n",
              "      <td>NaN</td>\n",
              "      <td>2020-10-08T10:42:01+03:00</td>\n",
              "      <td>Санкт-Петербург</td>\n",
              "    </tr>\n",
              "    <tr>\n",
              "      <th>2</th>\n",
              "      <td>JavaScript (Angular) developer</td>\n",
              "      <td>['Разработка ПО', 'Старший (Senior)', 'JavaScr...</td>\n",
              "      <td>NaN</td>\n",
              "      <td>2020-10-07T15:39:26+03:00</td>\n",
              "      <td>Санкт-Петербург</td>\n",
              "    </tr>\n",
              "    <tr>\n",
              "      <th>3</th>\n",
              "      <td>JavaScript (Node.JS) developer</td>\n",
              "      <td>['Разработка ПО', 'Средний (Middle)', 'JavaScr...</td>\n",
              "      <td>NaN</td>\n",
              "      <td>2020-10-07T15:35:08+03:00</td>\n",
              "      <td>Санкт-Петербург</td>\n",
              "    </tr>\n",
              "    <tr>\n",
              "      <th>4</th>\n",
              "      <td>PHP developer</td>\n",
              "      <td>['Разработка ПО', 'Средний (Middle)', 'PHP', '...</td>\n",
              "      <td>NaN</td>\n",
              "      <td>2020-09-25T13:42:33+03:00</td>\n",
              "      <td>Санкт-Петербург</td>\n",
              "    </tr>\n",
              "  </tbody>\n",
              "</table>\n",
              "</div>"
            ],
            "text/plain": [
              "                                     Наименование  ...          Локация\n",
              "0                                Python developer  ...  Санкт-Петербург\n",
              "1  Full Stack (Ruby+React/React Native) developer  ...  Санкт-Петербург\n",
              "2                  JavaScript (Angular) developer  ...  Санкт-Петербург\n",
              "3                  JavaScript (Node.JS) developer  ...  Санкт-Петербург\n",
              "4                                  PHP developer   ...  Санкт-Петербург\n",
              "\n",
              "[5 rows x 5 columns]"
            ]
          },
          "metadata": {
            "tags": []
          },
          "execution_count": 483
        }
      ]
    },
    {
      "cell_type": "code",
      "metadata": {
        "id": "EXZ1s480jMUf",
        "outputId": "4ad930b7-0d5a-43fb-cd4a-830c067e11a6",
        "colab": {
          "base_uri": "https://localhost:8080/",
          "height": 204
        }
      },
      "source": [
        "dt.columns = ['name', 'key_skills', 'salary', 'created_at', 'area']\n",
        "dt.head()"
      ],
      "execution_count": 484,
      "outputs": [
        {
          "output_type": "execute_result",
          "data": {
            "text/html": [
              "<div>\n",
              "<style scoped>\n",
              "    .dataframe tbody tr th:only-of-type {\n",
              "        vertical-align: middle;\n",
              "    }\n",
              "\n",
              "    .dataframe tbody tr th {\n",
              "        vertical-align: top;\n",
              "    }\n",
              "\n",
              "    .dataframe thead th {\n",
              "        text-align: right;\n",
              "    }\n",
              "</style>\n",
              "<table border=\"1\" class=\"dataframe\">\n",
              "  <thead>\n",
              "    <tr style=\"text-align: right;\">\n",
              "      <th></th>\n",
              "      <th>name</th>\n",
              "      <th>key_skills</th>\n",
              "      <th>salary</th>\n",
              "      <th>created_at</th>\n",
              "      <th>area</th>\n",
              "    </tr>\n",
              "  </thead>\n",
              "  <tbody>\n",
              "    <tr>\n",
              "      <th>0</th>\n",
              "      <td>Python developer</td>\n",
              "      <td>['Разработка ПО', 'Средний (Middle)', 'Python']</td>\n",
              "      <td>NaN</td>\n",
              "      <td>2020-10-14T16:00:29+03:00</td>\n",
              "      <td>Санкт-Петербург</td>\n",
              "    </tr>\n",
              "    <tr>\n",
              "      <th>1</th>\n",
              "      <td>Full Stack (Ruby+React/React Native) developer</td>\n",
              "      <td>['Разработка ПО', 'Средний (Middle)', 'Ruby', ...</td>\n",
              "      <td>NaN</td>\n",
              "      <td>2020-10-08T10:42:01+03:00</td>\n",
              "      <td>Санкт-Петербург</td>\n",
              "    </tr>\n",
              "    <tr>\n",
              "      <th>2</th>\n",
              "      <td>JavaScript (Angular) developer</td>\n",
              "      <td>['Разработка ПО', 'Старший (Senior)', 'JavaScr...</td>\n",
              "      <td>NaN</td>\n",
              "      <td>2020-10-07T15:39:26+03:00</td>\n",
              "      <td>Санкт-Петербург</td>\n",
              "    </tr>\n",
              "    <tr>\n",
              "      <th>3</th>\n",
              "      <td>JavaScript (Node.JS) developer</td>\n",
              "      <td>['Разработка ПО', 'Средний (Middle)', 'JavaScr...</td>\n",
              "      <td>NaN</td>\n",
              "      <td>2020-10-07T15:35:08+03:00</td>\n",
              "      <td>Санкт-Петербург</td>\n",
              "    </tr>\n",
              "    <tr>\n",
              "      <th>4</th>\n",
              "      <td>PHP developer</td>\n",
              "      <td>['Разработка ПО', 'Средний (Middle)', 'PHP', '...</td>\n",
              "      <td>NaN</td>\n",
              "      <td>2020-09-25T13:42:33+03:00</td>\n",
              "      <td>Санкт-Петербург</td>\n",
              "    </tr>\n",
              "  </tbody>\n",
              "</table>\n",
              "</div>"
            ],
            "text/plain": [
              "                                             name  ...             area\n",
              "0                                Python developer  ...  Санкт-Петербург\n",
              "1  Full Stack (Ruby+React/React Native) developer  ...  Санкт-Петербург\n",
              "2                  JavaScript (Angular) developer  ...  Санкт-Петербург\n",
              "3                  JavaScript (Node.JS) developer  ...  Санкт-Петербург\n",
              "4                                  PHP developer   ...  Санкт-Петербург\n",
              "\n",
              "[5 rows x 5 columns]"
            ]
          },
          "metadata": {
            "tags": []
          },
          "execution_count": 484
        }
      ]
    },
    {
      "cell_type": "code",
      "metadata": {
        "id": "9jTCInEesKe8"
      },
      "source": [
        "dt['created_at'] = pd.to_datetime(dt['created_at']).apply(lambda date: date.strftime('%Y-%m-%d'))\n",
        "# df['month'] = df['Время публикации'].apply(lambda date: date.month)\n",
        "# df['year'] = df['Время публикации'].apply(lambda date: date.year)"
      ],
      "execution_count": 486,
      "outputs": []
    },
    {
      "cell_type": "code",
      "metadata": {
        "id": "iA2n7lmloWW0",
        "outputId": "1b43e604-9cab-4c4e-c0f2-9bab516f9382",
        "colab": {
          "base_uri": "https://localhost:8080/",
          "height": 204
        }
      },
      "source": [
        "dt.head()"
      ],
      "execution_count": 487,
      "outputs": [
        {
          "output_type": "execute_result",
          "data": {
            "text/html": [
              "<div>\n",
              "<style scoped>\n",
              "    .dataframe tbody tr th:only-of-type {\n",
              "        vertical-align: middle;\n",
              "    }\n",
              "\n",
              "    .dataframe tbody tr th {\n",
              "        vertical-align: top;\n",
              "    }\n",
              "\n",
              "    .dataframe thead th {\n",
              "        text-align: right;\n",
              "    }\n",
              "</style>\n",
              "<table border=\"1\" class=\"dataframe\">\n",
              "  <thead>\n",
              "    <tr style=\"text-align: right;\">\n",
              "      <th></th>\n",
              "      <th>name</th>\n",
              "      <th>key_skills</th>\n",
              "      <th>salary</th>\n",
              "      <th>created_at</th>\n",
              "      <th>area</th>\n",
              "    </tr>\n",
              "  </thead>\n",
              "  <tbody>\n",
              "    <tr>\n",
              "      <th>0</th>\n",
              "      <td>Python developer</td>\n",
              "      <td>['Разработка ПО', 'Средний (Middle)', 'Python']</td>\n",
              "      <td>NaN</td>\n",
              "      <td>2020-10-14</td>\n",
              "      <td>Санкт-Петербург</td>\n",
              "    </tr>\n",
              "    <tr>\n",
              "      <th>1</th>\n",
              "      <td>Full Stack (Ruby+React/React Native) developer</td>\n",
              "      <td>['Разработка ПО', 'Средний (Middle)', 'Ruby', ...</td>\n",
              "      <td>NaN</td>\n",
              "      <td>2020-10-08</td>\n",
              "      <td>Санкт-Петербург</td>\n",
              "    </tr>\n",
              "    <tr>\n",
              "      <th>2</th>\n",
              "      <td>JavaScript (Angular) developer</td>\n",
              "      <td>['Разработка ПО', 'Старший (Senior)', 'JavaScr...</td>\n",
              "      <td>NaN</td>\n",
              "      <td>2020-10-07</td>\n",
              "      <td>Санкт-Петербург</td>\n",
              "    </tr>\n",
              "    <tr>\n",
              "      <th>3</th>\n",
              "      <td>JavaScript (Node.JS) developer</td>\n",
              "      <td>['Разработка ПО', 'Средний (Middle)', 'JavaScr...</td>\n",
              "      <td>NaN</td>\n",
              "      <td>2020-10-07</td>\n",
              "      <td>Санкт-Петербург</td>\n",
              "    </tr>\n",
              "    <tr>\n",
              "      <th>4</th>\n",
              "      <td>PHP developer</td>\n",
              "      <td>['Разработка ПО', 'Средний (Middle)', 'PHP', '...</td>\n",
              "      <td>NaN</td>\n",
              "      <td>2020-09-25</td>\n",
              "      <td>Санкт-Петербург</td>\n",
              "    </tr>\n",
              "  </tbody>\n",
              "</table>\n",
              "</div>"
            ],
            "text/plain": [
              "                                             name  ...             area\n",
              "0                                Python developer  ...  Санкт-Петербург\n",
              "1  Full Stack (Ruby+React/React Native) developer  ...  Санкт-Петербург\n",
              "2                  JavaScript (Angular) developer  ...  Санкт-Петербург\n",
              "3                  JavaScript (Node.JS) developer  ...  Санкт-Петербург\n",
              "4                                  PHP developer   ...  Санкт-Петербург\n",
              "\n",
              "[5 rows x 5 columns]"
            ]
          },
          "metadata": {
            "tags": []
          },
          "execution_count": 487
        }
      ]
    },
    {
      "cell_type": "code",
      "metadata": {
        "id": "vaxzVDzeoTvt"
      },
      "source": [
        "dt = dt.drop('salary', axis = 1)"
      ],
      "execution_count": 488,
      "outputs": []
    },
    {
      "cell_type": "code",
      "metadata": {
        "id": "veb5WmJgoRuX"
      },
      "source": [
        ""
      ],
      "execution_count": null,
      "outputs": []
    },
    {
      "cell_type": "code",
      "metadata": {
        "id": "NAVlWXyOAakk",
        "outputId": "20f2961b-d1a1-4885-aeb2-fbf4040f2fb1",
        "colab": {
          "base_uri": "https://localhost:8080/"
        }
      },
      "source": [
        "active = parse_vacancies(dt)"
      ],
      "execution_count": 489,
      "outputs": [
        {
          "output_type": "stream",
          "text": [
            "/usr/local/lib/python3.6/dist-packages/pandas/core/indexing.py:670: SettingWithCopyWarning: \n",
            "A value is trying to be set on a copy of a slice from a DataFrame\n",
            "\n",
            "See the caveats in the documentation: https://pandas.pydata.org/pandas-docs/stable/user_guide/indexing.html#returning-a-view-versus-a-copy\n",
            "  iloc._setitem_with_indexer(indexer, value)\n"
          ],
          "name": "stderr"
        }
      ]
    },
    {
      "cell_type": "code",
      "metadata": {
        "id": "nywbkCYDuUWG",
        "outputId": "e06a3416-1a6c-4d00-d380-7d437e58a8d6",
        "colab": {
          "base_uri": "https://localhost:8080/",
          "height": 204
        }
      },
      "source": [
        "active = active.drop('name', axis=1)\n",
        "active.head()"
      ],
      "execution_count": 491,
      "outputs": [
        {
          "output_type": "execute_result",
          "data": {
            "text/html": [
              "<div>\n",
              "<style scoped>\n",
              "    .dataframe tbody tr th:only-of-type {\n",
              "        vertical-align: middle;\n",
              "    }\n",
              "\n",
              "    .dataframe tbody tr th {\n",
              "        vertical-align: top;\n",
              "    }\n",
              "\n",
              "    .dataframe thead th {\n",
              "        text-align: right;\n",
              "    }\n",
              "</style>\n",
              "<table border=\"1\" class=\"dataframe\">\n",
              "  <thead>\n",
              "    <tr style=\"text-align: right;\">\n",
              "      <th></th>\n",
              "      <th>key_skills</th>\n",
              "      <th>created_at</th>\n",
              "      <th>area</th>\n",
              "      <th>vacancy</th>\n",
              "    </tr>\n",
              "  </thead>\n",
              "  <tbody>\n",
              "    <tr>\n",
              "      <th>0</th>\n",
              "      <td>['Разработка ПО', 'Средний (Middle)', 'Python']</td>\n",
              "      <td>2020-10-14</td>\n",
              "      <td>Санкт-Петербург</td>\n",
              "      <td>Разработчик</td>\n",
              "    </tr>\n",
              "    <tr>\n",
              "      <th>1</th>\n",
              "      <td>['Разработка ПО', 'Средний (Middle)', 'Ruby', ...</td>\n",
              "      <td>2020-10-08</td>\n",
              "      <td>Санкт-Петербург</td>\n",
              "      <td>Fullstack</td>\n",
              "    </tr>\n",
              "    <tr>\n",
              "      <th>2</th>\n",
              "      <td>['Разработка ПО', 'Старший (Senior)', 'JavaScr...</td>\n",
              "      <td>2020-10-07</td>\n",
              "      <td>Санкт-Петербург</td>\n",
              "      <td>Разработчик</td>\n",
              "    </tr>\n",
              "    <tr>\n",
              "      <th>3</th>\n",
              "      <td>['Разработка ПО', 'Средний (Middle)', 'JavaScr...</td>\n",
              "      <td>2020-10-07</td>\n",
              "      <td>Санкт-Петербург</td>\n",
              "      <td>Разработчик</td>\n",
              "    </tr>\n",
              "    <tr>\n",
              "      <th>4</th>\n",
              "      <td>['Разработка ПО', 'Средний (Middle)', 'PHP', '...</td>\n",
              "      <td>2020-09-25</td>\n",
              "      <td>Санкт-Петербург</td>\n",
              "      <td>Разработчик</td>\n",
              "    </tr>\n",
              "  </tbody>\n",
              "</table>\n",
              "</div>"
            ],
            "text/plain": [
              "                                          key_skills  ...      vacancy\n",
              "0    ['Разработка ПО', 'Средний (Middle)', 'Python']  ...  Разработчик\n",
              "1  ['Разработка ПО', 'Средний (Middle)', 'Ruby', ...  ...    Fullstack\n",
              "2  ['Разработка ПО', 'Старший (Senior)', 'JavaScr...  ...  Разработчик\n",
              "3  ['Разработка ПО', 'Средний (Middle)', 'JavaScr...  ...  Разработчик\n",
              "4  ['Разработка ПО', 'Средний (Middle)', 'PHP', '...  ...  Разработчик\n",
              "\n",
              "[5 rows x 4 columns]"
            ]
          },
          "metadata": {
            "tags": []
          },
          "execution_count": 491
        }
      ]
    },
    {
      "cell_type": "code",
      "metadata": {
        "id": "8TgiKFKMum15",
        "outputId": "a02be539-6789-4f14-b294-6c6dbe5e7b2b",
        "colab": {
          "base_uri": "https://localhost:8080/",
          "height": 204
        }
      },
      "source": [
        "path = os.path.join('/content/gdrive/My Drive/Colab Notebooks/sber-hack/vacancies_active.csv')\n",
        "dt_active = read_data(path)\n",
        "dt_active.head()"
      ],
      "execution_count": 492,
      "outputs": [
        {
          "output_type": "execute_result",
          "data": {
            "text/html": [
              "<div>\n",
              "<style scoped>\n",
              "    .dataframe tbody tr th:only-of-type {\n",
              "        vertical-align: middle;\n",
              "    }\n",
              "\n",
              "    .dataframe tbody tr th {\n",
              "        vertical-align: top;\n",
              "    }\n",
              "\n",
              "    .dataframe thead th {\n",
              "        text-align: right;\n",
              "    }\n",
              "</style>\n",
              "<table border=\"1\" class=\"dataframe\">\n",
              "  <thead>\n",
              "    <tr style=\"text-align: right;\">\n",
              "      <th></th>\n",
              "      <th>Наименование</th>\n",
              "      <th>Навыки</th>\n",
              "      <th>Зарплата</th>\n",
              "      <th>Время публикации</th>\n",
              "      <th>Локация</th>\n",
              "    </tr>\n",
              "  </thead>\n",
              "  <tbody>\n",
              "    <tr>\n",
              "      <th>0</th>\n",
              "      <td>Android developer</td>\n",
              "      <td>['Разработка ПО', 'Средний (Middle)', 'Разрабо...</td>\n",
              "      <td>NaN</td>\n",
              "      <td>2020-11-13T16:06:59+03:00</td>\n",
              "      <td>Минск</td>\n",
              "    </tr>\n",
              "    <tr>\n",
              "      <th>1</th>\n",
              "      <td>Android developer</td>\n",
              "      <td>['Разработка ПО', 'Средний (Middle)', 'Разрабо...</td>\n",
              "      <td>NaN</td>\n",
              "      <td>2020-11-13T16:05:35+03:00</td>\n",
              "      <td>Минск</td>\n",
              "    </tr>\n",
              "    <tr>\n",
              "      <th>2</th>\n",
              "      <td>Head‌ ‌of‌ ‌Salesforce‌ ‌‌Department</td>\n",
              "      <td>['Менеджмент', 'Ведущий (Lead)', 'Salesforce']</td>\n",
              "      <td>NaN</td>\n",
              "      <td>2020-11-13T15:58:46+03:00</td>\n",
              "      <td>Минск</td>\n",
              "    </tr>\n",
              "    <tr>\n",
              "      <th>3</th>\n",
              "      <td>Head‌ ‌of‌ ‌Salesforce‌ ‌‌Department</td>\n",
              "      <td>['Менеджмент', 'Ведущий (Lead)', 'Salesforce']</td>\n",
              "      <td>NaN</td>\n",
              "      <td>2020-11-13T15:55:31+03:00</td>\n",
              "      <td>Минск</td>\n",
              "    </tr>\n",
              "    <tr>\n",
              "      <th>4</th>\n",
              "      <td>JavaScript (Node.js) developer</td>\n",
              "      <td>['Разработка ПО', 'Средний (Middle)', 'JavaScr...</td>\n",
              "      <td>NaN</td>\n",
              "      <td>2020-11-13T15:52:00+03:00</td>\n",
              "      <td>Минск</td>\n",
              "    </tr>\n",
              "  </tbody>\n",
              "</table>\n",
              "</div>"
            ],
            "text/plain": [
              "                            Наименование  ... Локация\n",
              "0                      Android developer  ...   Минск\n",
              "1                      Android developer  ...   Минск\n",
              "2  Head‌ ‌of‌ ‌Salesforce‌ ‌‌Department   ...   Минск\n",
              "3   Head‌ ‌of‌ ‌Salesforce‌ ‌‌Department  ...   Минск\n",
              "4         JavaScript (Node.js) developer  ...   Минск\n",
              "\n",
              "[5 rows x 5 columns]"
            ]
          },
          "metadata": {
            "tags": []
          },
          "execution_count": 492
        }
      ]
    },
    {
      "cell_type": "code",
      "metadata": {
        "id": "xJYopbbRwY4X",
        "outputId": "00c829ee-c896-49aa-8e80-5b676268bf33",
        "colab": {
          "base_uri": "https://localhost:8080/",
          "height": 204
        }
      },
      "source": [
        "dt_active.columns = ['name', 'key_skills', 'salary', 'created_at', 'area']\n",
        "dt_active.head()"
      ],
      "execution_count": 493,
      "outputs": [
        {
          "output_type": "execute_result",
          "data": {
            "text/html": [
              "<div>\n",
              "<style scoped>\n",
              "    .dataframe tbody tr th:only-of-type {\n",
              "        vertical-align: middle;\n",
              "    }\n",
              "\n",
              "    .dataframe tbody tr th {\n",
              "        vertical-align: top;\n",
              "    }\n",
              "\n",
              "    .dataframe thead th {\n",
              "        text-align: right;\n",
              "    }\n",
              "</style>\n",
              "<table border=\"1\" class=\"dataframe\">\n",
              "  <thead>\n",
              "    <tr style=\"text-align: right;\">\n",
              "      <th></th>\n",
              "      <th>name</th>\n",
              "      <th>key_skills</th>\n",
              "      <th>salary</th>\n",
              "      <th>created_at</th>\n",
              "      <th>area</th>\n",
              "    </tr>\n",
              "  </thead>\n",
              "  <tbody>\n",
              "    <tr>\n",
              "      <th>0</th>\n",
              "      <td>Android developer</td>\n",
              "      <td>['Разработка ПО', 'Средний (Middle)', 'Разрабо...</td>\n",
              "      <td>NaN</td>\n",
              "      <td>2020-11-13T16:06:59+03:00</td>\n",
              "      <td>Минск</td>\n",
              "    </tr>\n",
              "    <tr>\n",
              "      <th>1</th>\n",
              "      <td>Android developer</td>\n",
              "      <td>['Разработка ПО', 'Средний (Middle)', 'Разрабо...</td>\n",
              "      <td>NaN</td>\n",
              "      <td>2020-11-13T16:05:35+03:00</td>\n",
              "      <td>Минск</td>\n",
              "    </tr>\n",
              "    <tr>\n",
              "      <th>2</th>\n",
              "      <td>Head‌ ‌of‌ ‌Salesforce‌ ‌‌Department</td>\n",
              "      <td>['Менеджмент', 'Ведущий (Lead)', 'Salesforce']</td>\n",
              "      <td>NaN</td>\n",
              "      <td>2020-11-13T15:58:46+03:00</td>\n",
              "      <td>Минск</td>\n",
              "    </tr>\n",
              "    <tr>\n",
              "      <th>3</th>\n",
              "      <td>Head‌ ‌of‌ ‌Salesforce‌ ‌‌Department</td>\n",
              "      <td>['Менеджмент', 'Ведущий (Lead)', 'Salesforce']</td>\n",
              "      <td>NaN</td>\n",
              "      <td>2020-11-13T15:55:31+03:00</td>\n",
              "      <td>Минск</td>\n",
              "    </tr>\n",
              "    <tr>\n",
              "      <th>4</th>\n",
              "      <td>JavaScript (Node.js) developer</td>\n",
              "      <td>['Разработка ПО', 'Средний (Middle)', 'JavaScr...</td>\n",
              "      <td>NaN</td>\n",
              "      <td>2020-11-13T15:52:00+03:00</td>\n",
              "      <td>Минск</td>\n",
              "    </tr>\n",
              "  </tbody>\n",
              "</table>\n",
              "</div>"
            ],
            "text/plain": [
              "                                    name  ...   area\n",
              "0                      Android developer  ...  Минск\n",
              "1                      Android developer  ...  Минск\n",
              "2  Head‌ ‌of‌ ‌Salesforce‌ ‌‌Department   ...  Минск\n",
              "3   Head‌ ‌of‌ ‌Salesforce‌ ‌‌Department  ...  Минск\n",
              "4         JavaScript (Node.js) developer  ...  Минск\n",
              "\n",
              "[5 rows x 5 columns]"
            ]
          },
          "metadata": {
            "tags": []
          },
          "execution_count": 493
        }
      ]
    },
    {
      "cell_type": "code",
      "metadata": {
        "id": "zchITpN6wZh2"
      },
      "source": [
        "dt_active['created_at'] = pd.to_datetime(dt_active['created_at']).apply(lambda date: date.strftime('%Y-%m-%d'))"
      ],
      "execution_count": 494,
      "outputs": []
    },
    {
      "cell_type": "code",
      "metadata": {
        "id": "f8rTYN9FwfVb"
      },
      "source": [
        "dt_active = dt_active.drop('salary', axis = 1)"
      ],
      "execution_count": 495,
      "outputs": []
    },
    {
      "cell_type": "code",
      "metadata": {
        "id": "bVm1ZKBXwZnm",
        "outputId": "833969d0-8516-45bc-e9fe-04cb23f24d0f",
        "colab": {
          "base_uri": "https://localhost:8080/"
        }
      },
      "source": [
        "dt_active = parse_vacancies(dt_active)"
      ],
      "execution_count": 496,
      "outputs": [
        {
          "output_type": "stream",
          "text": [
            "/usr/local/lib/python3.6/dist-packages/pandas/core/indexing.py:670: SettingWithCopyWarning: \n",
            "A value is trying to be set on a copy of a slice from a DataFrame\n",
            "\n",
            "See the caveats in the documentation: https://pandas.pydata.org/pandas-docs/stable/user_guide/indexing.html#returning-a-view-versus-a-copy\n",
            "  iloc._setitem_with_indexer(indexer, value)\n"
          ],
          "name": "stderr"
        }
      ]
    },
    {
      "cell_type": "code",
      "metadata": {
        "id": "tlHcxKflw7Ol",
        "outputId": "400b86b7-bfb9-4e01-8f60-185f59935f9a",
        "colab": {
          "base_uri": "https://localhost:8080/",
          "height": 204
        }
      },
      "source": [
        "dt_active.head()"
      ],
      "execution_count": 497,
      "outputs": [
        {
          "output_type": "execute_result",
          "data": {
            "text/html": [
              "<div>\n",
              "<style scoped>\n",
              "    .dataframe tbody tr th:only-of-type {\n",
              "        vertical-align: middle;\n",
              "    }\n",
              "\n",
              "    .dataframe tbody tr th {\n",
              "        vertical-align: top;\n",
              "    }\n",
              "\n",
              "    .dataframe thead th {\n",
              "        text-align: right;\n",
              "    }\n",
              "</style>\n",
              "<table border=\"1\" class=\"dataframe\">\n",
              "  <thead>\n",
              "    <tr style=\"text-align: right;\">\n",
              "      <th></th>\n",
              "      <th>name</th>\n",
              "      <th>key_skills</th>\n",
              "      <th>created_at</th>\n",
              "      <th>area</th>\n",
              "      <th>vacancy</th>\n",
              "    </tr>\n",
              "  </thead>\n",
              "  <tbody>\n",
              "    <tr>\n",
              "      <th>0</th>\n",
              "      <td>Android developer</td>\n",
              "      <td>['Разработка ПО', 'Средний (Middle)', 'Разрабо...</td>\n",
              "      <td>2020-11-13</td>\n",
              "      <td>Минск</td>\n",
              "      <td>Разработчик</td>\n",
              "    </tr>\n",
              "    <tr>\n",
              "      <th>1</th>\n",
              "      <td>Android developer</td>\n",
              "      <td>['Разработка ПО', 'Средний (Middle)', 'Разрабо...</td>\n",
              "      <td>2020-11-13</td>\n",
              "      <td>Минск</td>\n",
              "      <td>Разработчик</td>\n",
              "    </tr>\n",
              "    <tr>\n",
              "      <th>2</th>\n",
              "      <td>Head‌ ‌of‌ ‌Salesforce‌ ‌‌Department</td>\n",
              "      <td>['Менеджмент', 'Ведущий (Lead)', 'Salesforce']</td>\n",
              "      <td>2020-11-13</td>\n",
              "      <td>Минск</td>\n",
              "      <td>0</td>\n",
              "    </tr>\n",
              "    <tr>\n",
              "      <th>3</th>\n",
              "      <td>Head‌ ‌of‌ ‌Salesforce‌ ‌‌Department</td>\n",
              "      <td>['Менеджмент', 'Ведущий (Lead)', 'Salesforce']</td>\n",
              "      <td>2020-11-13</td>\n",
              "      <td>Минск</td>\n",
              "      <td>0</td>\n",
              "    </tr>\n",
              "    <tr>\n",
              "      <th>4</th>\n",
              "      <td>JavaScript (Node.js) developer</td>\n",
              "      <td>['Разработка ПО', 'Средний (Middle)', 'JavaScr...</td>\n",
              "      <td>2020-11-13</td>\n",
              "      <td>Минск</td>\n",
              "      <td>Разработчик</td>\n",
              "    </tr>\n",
              "  </tbody>\n",
              "</table>\n",
              "</div>"
            ],
            "text/plain": [
              "                                    name  ...      vacancy\n",
              "0                      Android developer  ...  Разработчик\n",
              "1                      Android developer  ...  Разработчик\n",
              "2  Head‌ ‌of‌ ‌Salesforce‌ ‌‌Department   ...            0\n",
              "3   Head‌ ‌of‌ ‌Salesforce‌ ‌‌Department  ...            0\n",
              "4         JavaScript (Node.js) developer  ...  Разработчик\n",
              "\n",
              "[5 rows x 5 columns]"
            ]
          },
          "metadata": {
            "tags": []
          },
          "execution_count": 497
        }
      ]
    },
    {
      "cell_type": "code",
      "metadata": {
        "id": "h59IjMAMxEtF"
      },
      "source": [
        "dt_active = dt_active[dt_active.vacancy != 0]"
      ],
      "execution_count": 498,
      "outputs": []
    },
    {
      "cell_type": "code",
      "metadata": {
        "id": "W486aOdaxE5h"
      },
      "source": [
        "active = active[active.vacancy != 0]"
      ],
      "execution_count": 499,
      "outputs": []
    },
    {
      "cell_type": "code",
      "metadata": {
        "id": "NmWXWOLWxFGC",
        "outputId": "b0f7943a-9677-4b21-c7f1-25fe29116779",
        "colab": {
          "base_uri": "https://localhost:8080/",
          "height": 204
        }
      },
      "source": [
        "active.head()"
      ],
      "execution_count": 500,
      "outputs": [
        {
          "output_type": "execute_result",
          "data": {
            "text/html": [
              "<div>\n",
              "<style scoped>\n",
              "    .dataframe tbody tr th:only-of-type {\n",
              "        vertical-align: middle;\n",
              "    }\n",
              "\n",
              "    .dataframe tbody tr th {\n",
              "        vertical-align: top;\n",
              "    }\n",
              "\n",
              "    .dataframe thead th {\n",
              "        text-align: right;\n",
              "    }\n",
              "</style>\n",
              "<table border=\"1\" class=\"dataframe\">\n",
              "  <thead>\n",
              "    <tr style=\"text-align: right;\">\n",
              "      <th></th>\n",
              "      <th>key_skills</th>\n",
              "      <th>created_at</th>\n",
              "      <th>area</th>\n",
              "      <th>vacancy</th>\n",
              "    </tr>\n",
              "  </thead>\n",
              "  <tbody>\n",
              "    <tr>\n",
              "      <th>0</th>\n",
              "      <td>['Разработка ПО', 'Средний (Middle)', 'Python']</td>\n",
              "      <td>2020-10-14</td>\n",
              "      <td>Санкт-Петербург</td>\n",
              "      <td>Разработчик</td>\n",
              "    </tr>\n",
              "    <tr>\n",
              "      <th>1</th>\n",
              "      <td>['Разработка ПО', 'Средний (Middle)', 'Ruby', ...</td>\n",
              "      <td>2020-10-08</td>\n",
              "      <td>Санкт-Петербург</td>\n",
              "      <td>Fullstack</td>\n",
              "    </tr>\n",
              "    <tr>\n",
              "      <th>2</th>\n",
              "      <td>['Разработка ПО', 'Старший (Senior)', 'JavaScr...</td>\n",
              "      <td>2020-10-07</td>\n",
              "      <td>Санкт-Петербург</td>\n",
              "      <td>Разработчик</td>\n",
              "    </tr>\n",
              "    <tr>\n",
              "      <th>3</th>\n",
              "      <td>['Разработка ПО', 'Средний (Middle)', 'JavaScr...</td>\n",
              "      <td>2020-10-07</td>\n",
              "      <td>Санкт-Петербург</td>\n",
              "      <td>Разработчик</td>\n",
              "    </tr>\n",
              "    <tr>\n",
              "      <th>4</th>\n",
              "      <td>['Разработка ПО', 'Средний (Middle)', 'PHP', '...</td>\n",
              "      <td>2020-09-25</td>\n",
              "      <td>Санкт-Петербург</td>\n",
              "      <td>Разработчик</td>\n",
              "    </tr>\n",
              "  </tbody>\n",
              "</table>\n",
              "</div>"
            ],
            "text/plain": [
              "                                          key_skills  ...      vacancy\n",
              "0    ['Разработка ПО', 'Средний (Middle)', 'Python']  ...  Разработчик\n",
              "1  ['Разработка ПО', 'Средний (Middle)', 'Ruby', ...  ...    Fullstack\n",
              "2  ['Разработка ПО', 'Старший (Senior)', 'JavaScr...  ...  Разработчик\n",
              "3  ['Разработка ПО', 'Средний (Middle)', 'JavaScr...  ...  Разработчик\n",
              "4  ['Разработка ПО', 'Средний (Middle)', 'PHP', '...  ...  Разработчик\n",
              "\n",
              "[5 rows x 4 columns]"
            ]
          },
          "metadata": {
            "tags": []
          },
          "execution_count": 500
        }
      ]
    },
    {
      "cell_type": "code",
      "metadata": {
        "id": "pUpGKnAaxSsN"
      },
      "source": [
        "dt_active = dt_active.drop('name', axis=1)"
      ],
      "execution_count": 502,
      "outputs": []
    },
    {
      "cell_type": "code",
      "metadata": {
        "id": "NEE0KmYQw7dr",
        "outputId": "d5cfeb1c-6c10-49c7-8993-864c3555c3f5",
        "colab": {
          "base_uri": "https://localhost:8080/",
          "height": 204
        }
      },
      "source": [
        "dt_active.head()"
      ],
      "execution_count": 503,
      "outputs": [
        {
          "output_type": "execute_result",
          "data": {
            "text/html": [
              "<div>\n",
              "<style scoped>\n",
              "    .dataframe tbody tr th:only-of-type {\n",
              "        vertical-align: middle;\n",
              "    }\n",
              "\n",
              "    .dataframe tbody tr th {\n",
              "        vertical-align: top;\n",
              "    }\n",
              "\n",
              "    .dataframe thead th {\n",
              "        text-align: right;\n",
              "    }\n",
              "</style>\n",
              "<table border=\"1\" class=\"dataframe\">\n",
              "  <thead>\n",
              "    <tr style=\"text-align: right;\">\n",
              "      <th></th>\n",
              "      <th>key_skills</th>\n",
              "      <th>created_at</th>\n",
              "      <th>area</th>\n",
              "      <th>vacancy</th>\n",
              "    </tr>\n",
              "  </thead>\n",
              "  <tbody>\n",
              "    <tr>\n",
              "      <th>0</th>\n",
              "      <td>['Разработка ПО', 'Средний (Middle)', 'Разрабо...</td>\n",
              "      <td>2020-11-13</td>\n",
              "      <td>Минск</td>\n",
              "      <td>Разработчик</td>\n",
              "    </tr>\n",
              "    <tr>\n",
              "      <th>1</th>\n",
              "      <td>['Разработка ПО', 'Средний (Middle)', 'Разрабо...</td>\n",
              "      <td>2020-11-13</td>\n",
              "      <td>Минск</td>\n",
              "      <td>Разработчик</td>\n",
              "    </tr>\n",
              "    <tr>\n",
              "      <th>4</th>\n",
              "      <td>['Разработка ПО', 'Средний (Middle)', 'JavaScr...</td>\n",
              "      <td>2020-11-13</td>\n",
              "      <td>Минск</td>\n",
              "      <td>Разработчик</td>\n",
              "    </tr>\n",
              "    <tr>\n",
              "      <th>5</th>\n",
              "      <td>['Разработка ПО', 'Средний (Middle)', 'JavaScr...</td>\n",
              "      <td>2020-11-13</td>\n",
              "      <td>Минск</td>\n",
              "      <td>Разработчик</td>\n",
              "    </tr>\n",
              "    <tr>\n",
              "      <th>6</th>\n",
              "      <td>['Разработка ПО', 'Средний (Middle)', 'JavaScr...</td>\n",
              "      <td>2020-11-13</td>\n",
              "      <td>Минск</td>\n",
              "      <td>Разработчик</td>\n",
              "    </tr>\n",
              "  </tbody>\n",
              "</table>\n",
              "</div>"
            ],
            "text/plain": [
              "                                          key_skills  ...      vacancy\n",
              "0  ['Разработка ПО', 'Средний (Middle)', 'Разрабо...  ...  Разработчик\n",
              "1  ['Разработка ПО', 'Средний (Middle)', 'Разрабо...  ...  Разработчик\n",
              "4  ['Разработка ПО', 'Средний (Middle)', 'JavaScr...  ...  Разработчик\n",
              "5  ['Разработка ПО', 'Средний (Middle)', 'JavaScr...  ...  Разработчик\n",
              "6  ['Разработка ПО', 'Средний (Middle)', 'JavaScr...  ...  Разработчик\n",
              "\n",
              "[5 rows x 4 columns]"
            ]
          },
          "metadata": {
            "tags": []
          },
          "execution_count": 503
        }
      ]
    },
    {
      "cell_type": "code",
      "metadata": {
        "id": "o-ztdUTpxfaj",
        "outputId": "53b7fa38-b5c9-449c-bade-6b2f65644c06",
        "colab": {
          "base_uri": "https://localhost:8080/"
        }
      },
      "source": [
        "np.unique(active.vacancy)"
      ],
      "execution_count": 504,
      "outputs": [
        {
          "output_type": "execute_result",
          "data": {
            "text/plain": [
              "array(['BI', 'Backend', 'Computer Vision', 'Data Engineer',\n",
              "       'Data Scientist', 'Data engineer', 'DevOps', 'ETL разработчик',\n",
              "       'Frontend', 'Fullstack', 'Linux инженер',\n",
              "       'Machine learning engineer', 'Product', 'Python разработчик',\n",
              "       'System engineer', 'Team lead', 'Аналитик', 'Аналитик данных',\n",
              "       'Безопасность данных', 'Инженер', 'Разработчик',\n",
              "       'Разработчик-аналитик', 'Системный администратор',\n",
              "       'Системный аналитик', 'Тестировщик'], dtype=object)"
            ]
          },
          "metadata": {
            "tags": []
          },
          "execution_count": 504
        }
      ]
    },
    {
      "cell_type": "code",
      "metadata": {
        "id": "aVSAB8XGxfqa",
        "outputId": "22277d3e-b310-4817-9c1a-8b57a0125e40",
        "colab": {
          "base_uri": "https://localhost:8080/"
        }
      },
      "source": [
        "np.unique(dt_active.vacancy)"
      ],
      "execution_count": 505,
      "outputs": [
        {
          "output_type": "execute_result",
          "data": {
            "text/plain": [
              "array(['BI', 'Backend', 'Data Engineer', 'Data Scientist',\n",
              "       'Data engineer', 'DevOps', 'ETL разработчик', 'Frontend',\n",
              "       'Fullstack', 'Linux инженер', 'Machine learning engineer',\n",
              "       'Product', 'Python разработчик', 'System engineer', 'Team lead',\n",
              "       'Аналитик', 'Аналитик данных', 'Безопасность данных', 'Инженер',\n",
              "       'Разработчик', 'Системный администратор', 'Системный аналитик',\n",
              "       'Тестировщик'], dtype=object)"
            ]
          },
          "metadata": {
            "tags": []
          },
          "execution_count": 505
        }
      ]
    },
    {
      "cell_type": "code",
      "metadata": {
        "id": "txENIAU6uk8U",
        "outputId": "ac1d316a-bb2e-43b8-b319-e713d49bb7e9",
        "colab": {
          "base_uri": "https://localhost:8080/",
          "height": 204
        }
      },
      "source": [
        "result = pd.concat([dt_active, active])\n",
        "result.head()"
      ],
      "execution_count": 506,
      "outputs": [
        {
          "output_type": "execute_result",
          "data": {
            "text/html": [
              "<div>\n",
              "<style scoped>\n",
              "    .dataframe tbody tr th:only-of-type {\n",
              "        vertical-align: middle;\n",
              "    }\n",
              "\n",
              "    .dataframe tbody tr th {\n",
              "        vertical-align: top;\n",
              "    }\n",
              "\n",
              "    .dataframe thead th {\n",
              "        text-align: right;\n",
              "    }\n",
              "</style>\n",
              "<table border=\"1\" class=\"dataframe\">\n",
              "  <thead>\n",
              "    <tr style=\"text-align: right;\">\n",
              "      <th></th>\n",
              "      <th>key_skills</th>\n",
              "      <th>created_at</th>\n",
              "      <th>area</th>\n",
              "      <th>vacancy</th>\n",
              "    </tr>\n",
              "  </thead>\n",
              "  <tbody>\n",
              "    <tr>\n",
              "      <th>0</th>\n",
              "      <td>['Разработка ПО', 'Средний (Middle)', 'Разрабо...</td>\n",
              "      <td>2020-11-13</td>\n",
              "      <td>Минск</td>\n",
              "      <td>Разработчик</td>\n",
              "    </tr>\n",
              "    <tr>\n",
              "      <th>1</th>\n",
              "      <td>['Разработка ПО', 'Средний (Middle)', 'Разрабо...</td>\n",
              "      <td>2020-11-13</td>\n",
              "      <td>Минск</td>\n",
              "      <td>Разработчик</td>\n",
              "    </tr>\n",
              "    <tr>\n",
              "      <th>4</th>\n",
              "      <td>['Разработка ПО', 'Средний (Middle)', 'JavaScr...</td>\n",
              "      <td>2020-11-13</td>\n",
              "      <td>Минск</td>\n",
              "      <td>Разработчик</td>\n",
              "    </tr>\n",
              "    <tr>\n",
              "      <th>5</th>\n",
              "      <td>['Разработка ПО', 'Средний (Middle)', 'JavaScr...</td>\n",
              "      <td>2020-11-13</td>\n",
              "      <td>Минск</td>\n",
              "      <td>Разработчик</td>\n",
              "    </tr>\n",
              "    <tr>\n",
              "      <th>6</th>\n",
              "      <td>['Разработка ПО', 'Средний (Middle)', 'JavaScr...</td>\n",
              "      <td>2020-11-13</td>\n",
              "      <td>Минск</td>\n",
              "      <td>Разработчик</td>\n",
              "    </tr>\n",
              "  </tbody>\n",
              "</table>\n",
              "</div>"
            ],
            "text/plain": [
              "                                          key_skills  ...      vacancy\n",
              "0  ['Разработка ПО', 'Средний (Middle)', 'Разрабо...  ...  Разработчик\n",
              "1  ['Разработка ПО', 'Средний (Middle)', 'Разрабо...  ...  Разработчик\n",
              "4  ['Разработка ПО', 'Средний (Middle)', 'JavaScr...  ...  Разработчик\n",
              "5  ['Разработка ПО', 'Средний (Middle)', 'JavaScr...  ...  Разработчик\n",
              "6  ['Разработка ПО', 'Средний (Middle)', 'JavaScr...  ...  Разработчик\n",
              "\n",
              "[5 rows x 4 columns]"
            ]
          },
          "metadata": {
            "tags": []
          },
          "execution_count": 506
        }
      ]
    },
    {
      "cell_type": "code",
      "metadata": {
        "id": "z6zPm6AqvPZ2"
      },
      "source": [
        "result.to_csv(os.path.join('/content/gdrive/My Drive/Colab Notebooks/sber-hack/result_data.csv'))"
      ],
      "execution_count": 507,
      "outputs": []
    },
    {
      "cell_type": "code",
      "metadata": {
        "id": "pwUvk7w5x6di"
      },
      "source": [
        ""
      ],
      "execution_count": null,
      "outputs": []
    },
    {
      "cell_type": "code",
      "metadata": {
        "id": "IcAjYm1cGE7H"
      },
      "source": [
        "result = result.drop('counters', axis=1)"
      ],
      "execution_count": 399,
      "outputs": []
    },
    {
      "cell_type": "code",
      "metadata": {
        "id": "pOZk0EgDlFKu",
        "outputId": "339c55df-5e38-4f5d-e71e-9708544ae412",
        "colab": {
          "base_uri": "https://localhost:8080/",
          "height": 419
        }
      },
      "source": [
        "result"
      ],
      "execution_count": 404,
      "outputs": [
        {
          "output_type": "execute_result",
          "data": {
            "text/html": [
              "<div>\n",
              "<style scoped>\n",
              "    .dataframe tbody tr th:only-of-type {\n",
              "        vertical-align: middle;\n",
              "    }\n",
              "\n",
              "    .dataframe tbody tr th {\n",
              "        vertical-align: top;\n",
              "    }\n",
              "\n",
              "    .dataframe thead th {\n",
              "        text-align: right;\n",
              "    }\n",
              "</style>\n",
              "<table border=\"1\" class=\"dataframe\">\n",
              "  <thead>\n",
              "    <tr style=\"text-align: right;\">\n",
              "      <th></th>\n",
              "      <th>area</th>\n",
              "      <th>key_skills</th>\n",
              "      <th>created_at</th>\n",
              "      <th>vacancy</th>\n",
              "    </tr>\n",
              "  </thead>\n",
              "  <tbody>\n",
              "    <tr>\n",
              "      <th>0</th>\n",
              "      <td>Санкт-Петербург</td>\n",
              "      <td>Python,Linux,SQL,Навыки межличностного общения...</td>\n",
              "      <td>2020-10-16</td>\n",
              "      <td>Разработчик</td>\n",
              "    </tr>\n",
              "    <tr>\n",
              "      <th>1</th>\n",
              "      <td>Дзержинск (Нижегородская область)</td>\n",
              "      <td>Python,Git,Django Framework,Linux,PostgreSQL</td>\n",
              "      <td>2020-10-16</td>\n",
              "      <td>Разработчик</td>\n",
              "    </tr>\n",
              "    <tr>\n",
              "      <th>2</th>\n",
              "      <td>Москва</td>\n",
              "      <td>Python,Django Framework,Git,Работа в команде,F...</td>\n",
              "      <td>2020-10-16</td>\n",
              "      <td>Разработчик</td>\n",
              "    </tr>\n",
              "    <tr>\n",
              "      <th>3</th>\n",
              "      <td>Москва</td>\n",
              "      <td>Python,Django Framework,PostgreSQL,Linux,MySQL</td>\n",
              "      <td>2020-10-15</td>\n",
              "      <td>Разработчик</td>\n",
              "    </tr>\n",
              "    <tr>\n",
              "      <th>4</th>\n",
              "      <td>Москва</td>\n",
              "      <td>Python,Django Framework,PostgreSQL,Git,Celery</td>\n",
              "      <td>2020-10-16</td>\n",
              "      <td>Разработчик</td>\n",
              "    </tr>\n",
              "    <tr>\n",
              "      <th>...</th>\n",
              "      <td>...</td>\n",
              "      <td>...</td>\n",
              "      <td>...</td>\n",
              "      <td>...</td>\n",
              "    </tr>\n",
              "    <tr>\n",
              "      <th>2241</th>\n",
              "      <td>Москва</td>\n",
              "      <td>Linux,Администрирование серверов Linux,1С-Битр...</td>\n",
              "      <td>2020-11-13</td>\n",
              "      <td>Системный администратор</td>\n",
              "    </tr>\n",
              "    <tr>\n",
              "      <th>2242</th>\n",
              "      <td>Москва</td>\n",
              "      <td>Java,Python,laravel,swift</td>\n",
              "      <td>2020-11-14</td>\n",
              "      <td>Team lead</td>\n",
              "    </tr>\n",
              "    <tr>\n",
              "      <th>2243</th>\n",
              "      <td>Москва</td>\n",
              "      <td>C++,Python</td>\n",
              "      <td>2020-11-13</td>\n",
              "      <td>Инженер</td>\n",
              "    </tr>\n",
              "    <tr>\n",
              "      <th>2244</th>\n",
              "      <td>Санкт-Петербург</td>\n",
              "      <td>NaN</td>\n",
              "      <td>2020-11-14</td>\n",
              "      <td>Инженер</td>\n",
              "    </tr>\n",
              "    <tr>\n",
              "      <th>2245</th>\n",
              "      <td>Москва</td>\n",
              "      <td>Финансовый анализ,Инвестиционный анализ,Корпор...</td>\n",
              "      <td>2020-11-13</td>\n",
              "      <td>Аналитик</td>\n",
              "    </tr>\n",
              "  </tbody>\n",
              "</table>\n",
              "<p>2246 rows × 4 columns</p>\n",
              "</div>"
            ],
            "text/plain": [
              "                                   area  ...                  vacancy\n",
              "0                       Санкт-Петербург  ...              Разработчик\n",
              "1     Дзержинск (Нижегородская область)  ...              Разработчик\n",
              "2                                Москва  ...              Разработчик\n",
              "3                                Москва  ...              Разработчик\n",
              "4                                Москва  ...              Разработчик\n",
              "...                                 ...  ...                      ...\n",
              "2241                             Москва  ...  Системный администратор\n",
              "2242                             Москва  ...                Team lead\n",
              "2243                             Москва  ...                  Инженер\n",
              "2244                    Санкт-Петербург  ...                  Инженер\n",
              "2245                             Москва  ...                 Аналитик\n",
              "\n",
              "[2246 rows x 4 columns]"
            ]
          },
          "metadata": {
            "tags": []
          },
          "execution_count": 404
        }
      ]
    },
    {
      "cell_type": "code",
      "metadata": {
        "id": "iPFz74-SAa3T"
      },
      "source": [
        "result.to_csv(os.path.join('/content/gdrive/My Drive/Colab Notebooks/sber-hack/new_data.csv'))"
      ],
      "execution_count": null,
      "outputs": []
    },
    {
      "cell_type": "code",
      "metadata": {
        "id": "IaJhdkVuBTDX"
      },
      "source": [
        ""
      ],
      "execution_count": null,
      "outputs": []
    },
    {
      "cell_type": "code",
      "metadata": {
        "id": "FLXTOib7AbDH"
      },
      "source": [
        ""
      ],
      "execution_count": null,
      "outputs": []
    },
    {
      "cell_type": "code",
      "metadata": {
        "id": "da7tBdi3VMqE"
      },
      "source": [
        "from nltk.stem.snowball import SnowballStemmer\n",
        "\n",
        "stemmer = SnowballStemmer('russian')"
      ],
      "execution_count": null,
      "outputs": []
    },
    {
      "cell_type": "code",
      "metadata": {
        "id": "FXKmhOA07QxD",
        "outputId": "7733b9ac-86e3-4446-b3b8-1e05193ec6dd",
        "colab": {
          "base_uri": "https://localhost:8080/"
        }
      },
      "source": [
        "[stemmer.stem(s) for s in str(name).lower().replace('-', ' ').split(' ')]"
      ],
      "execution_count": null,
      "outputs": [
        {
          "output_type": "execute_result",
          "data": {
            "text/plain": [
              "['стажер', '', '', 'python', 'разработчик', '(django,', 'drf)']"
            ]
          },
          "metadata": {
            "tags": []
          },
          "execution_count": 111
        }
      ]
    }
  ]
}